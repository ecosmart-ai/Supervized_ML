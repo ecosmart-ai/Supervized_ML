{
  "nbformat": 4,
  "nbformat_minor": 0,
  "metadata": {
    "colab": {
      "name": "Predict Ice Cream Sales Using Temperature .ipynb",
      "provenance": [],
      "collapsed_sections": []
    },
    "kernelspec": {
      "name": "python3",
      "display_name": "Python 3"
    },
    "accelerator": "GPU"
  },
  "cells": [
    {
      "cell_type": "markdown",
      "metadata": {
        "id": "M27qF7CTrBqc",
        "colab_type": "text"
      },
      "source": [
        "# PROBLEM STATEMENT"
      ]
    },
    {
      "cell_type": "markdown",
      "metadata": {
        "id": "iCj2rwwHBB1I",
        "colab_type": "text"
      },
      "source": [
        "\n",
        "- You own an ice cream business and you would like to create a model that could predict the daily revenue in dollars based on the outside air temperature (degC). You decided to build a simple Artificial Neural Network to solve this problem.  \n",
        "\n",
        "- Data set:\n",
        "  - Input (X): Outside Air Temperature\n",
        "  - Output (Y): Overall daily revenue generated in dollars \n",
        "\n",
        "- This example is a regression example, we will cover regression in more details in future projects. "
      ]
    },
    {
      "cell_type": "markdown",
      "metadata": {
        "id": "Z2ZMlH-gtOxf",
        "colab_type": "text"
      },
      "source": [
        "\n",
        "<table>\n",
        "  <tr><td>\n",
        "    <img src=\"https://upload.wikimedia.org/wikipedia/commons/6/63/Big_Gay_Ice_Cream_Truck.jpg\"\n",
        "          width=\"600\">\n",
        "  </td></tr>\n",
        "  <tr><td align=\"center\">\n",
        "    <b>Figure 1. Predict Ice Cream Sales [Source: https://upload.wikimedia.org/wikipedia/commons/6/63/Big_Gay_Ice_Cream_Truck.jpg]\n",
        "  </td></tr>\n",
        "</table>\n"
      ]
    },
    {
      "cell_type": "markdown",
      "metadata": {
        "id": "zKmFmyaGunc7",
        "colab_type": "text"
      },
      "source": [
        "# STEP #0: IMPORT LIBRARIES"
      ]
    },
    {
      "cell_type": "code",
      "metadata": {
        "id": "LiXFj9_T90Tk",
        "colab_type": "code",
        "colab": {
          "base_uri": "https://localhost:8080/",
          "height": 159
        },
        "outputId": "65c65b27-b2f6-470a-c574-cbbfa057e80f"
      },
      "source": [
        "import tensorflow as tf\n",
        "import pandas as pd\n",
        "import numpy as np\n",
        "import seaborn as sns\n",
        "import matplotlib.pyplot as plt\n",
        "from google.colab import drive\n",
        "drive.mount('/content/drive')"
      ],
      "execution_count": 1,
      "outputs": [
        {
          "output_type": "stream",
          "text": [
            "/usr/local/lib/python3.6/dist-packages/statsmodels/tools/_testing.py:19: FutureWarning: pandas.util.testing is deprecated. Use the functions in the public API at pandas.testing instead.\n",
            "  import pandas.util.testing as tm\n"
          ],
          "name": "stderr"
        },
        {
          "output_type": "stream",
          "text": [
            "Go to this URL in a browser: https://accounts.google.com/o/oauth2/auth?client_id=947318989803-6bn6qk8qdgf4n4g3pfee6491hc0brc4i.apps.googleusercontent.com&redirect_uri=urn%3aietf%3awg%3aoauth%3a2.0%3aoob&response_type=code&scope=email%20https%3a%2f%2fwww.googleapis.com%2fauth%2fdocs.test%20https%3a%2f%2fwww.googleapis.com%2fauth%2fdrive%20https%3a%2f%2fwww.googleapis.com%2fauth%2fdrive.photos.readonly%20https%3a%2f%2fwww.googleapis.com%2fauth%2fpeopleapi.readonly\n",
            "\n",
            "Enter your authorization code:\n",
            "··········\n",
            "Mounted at /content/drive\n"
          ],
          "name": "stdout"
        }
      ]
    },
    {
      "cell_type": "markdown",
      "metadata": {
        "id": "uAE6Icc0uylP",
        "colab_type": "text"
      },
      "source": [
        "# STEP #1: IMPORT DATASET"
      ]
    },
    {
      "cell_type": "code",
      "metadata": {
        "id": "q4_wPDKCu5Uc",
        "colab_type": "code",
        "colab": {
          "base_uri": "https://localhost:8080/",
          "height": 202
        },
        "outputId": "2c4f0b28-53b4-4e96-b025-317ba83787fa"
      },
      "source": [
        "# import CSV file entitled \"SalesData.csv\"\n",
        "df = pd.read_csv('/content/drive/My Drive/Data/SalesData.csv')\n",
        "df.head()\n"
      ],
      "execution_count": 2,
      "outputs": [
        {
          "output_type": "execute_result",
          "data": {
            "text/html": [
              "<div>\n",
              "<style scoped>\n",
              "    .dataframe tbody tr th:only-of-type {\n",
              "        vertical-align: middle;\n",
              "    }\n",
              "\n",
              "    .dataframe tbody tr th {\n",
              "        vertical-align: top;\n",
              "    }\n",
              "\n",
              "    .dataframe thead th {\n",
              "        text-align: right;\n",
              "    }\n",
              "</style>\n",
              "<table border=\"1\" class=\"dataframe\">\n",
              "  <thead>\n",
              "    <tr style=\"text-align: right;\">\n",
              "      <th></th>\n",
              "      <th>Temperature</th>\n",
              "      <th>Revenue</th>\n",
              "    </tr>\n",
              "  </thead>\n",
              "  <tbody>\n",
              "    <tr>\n",
              "      <th>0</th>\n",
              "      <td>24.566884</td>\n",
              "      <td>534.799028</td>\n",
              "    </tr>\n",
              "    <tr>\n",
              "      <th>1</th>\n",
              "      <td>26.005191</td>\n",
              "      <td>625.190122</td>\n",
              "    </tr>\n",
              "    <tr>\n",
              "      <th>2</th>\n",
              "      <td>27.790554</td>\n",
              "      <td>660.632289</td>\n",
              "    </tr>\n",
              "    <tr>\n",
              "      <th>3</th>\n",
              "      <td>20.595335</td>\n",
              "      <td>487.706960</td>\n",
              "    </tr>\n",
              "    <tr>\n",
              "      <th>4</th>\n",
              "      <td>11.503498</td>\n",
              "      <td>316.240194</td>\n",
              "    </tr>\n",
              "  </tbody>\n",
              "</table>\n",
              "</div>"
            ],
            "text/plain": [
              "   Temperature     Revenue\n",
              "0    24.566884  534.799028\n",
              "1    26.005191  625.190122\n",
              "2    27.790554  660.632289\n",
              "3    20.595335  487.706960\n",
              "4    11.503498  316.240194"
            ]
          },
          "metadata": {
            "tags": []
          },
          "execution_count": 2
        }
      ]
    },
    {
      "cell_type": "code",
      "metadata": {
        "id": "RUt2ON_UxyYk",
        "colab_type": "code",
        "colab": {
          "base_uri": "https://localhost:8080/",
          "height": 294
        },
        "outputId": "c765c674-ca40-4af9-940d-ccb6c747396b"
      },
      "source": [
        "df.describe()"
      ],
      "execution_count": 3,
      "outputs": [
        {
          "output_type": "execute_result",
          "data": {
            "text/html": [
              "<div>\n",
              "<style scoped>\n",
              "    .dataframe tbody tr th:only-of-type {\n",
              "        vertical-align: middle;\n",
              "    }\n",
              "\n",
              "    .dataframe tbody tr th {\n",
              "        vertical-align: top;\n",
              "    }\n",
              "\n",
              "    .dataframe thead th {\n",
              "        text-align: right;\n",
              "    }\n",
              "</style>\n",
              "<table border=\"1\" class=\"dataframe\">\n",
              "  <thead>\n",
              "    <tr style=\"text-align: right;\">\n",
              "      <th></th>\n",
              "      <th>Temperature</th>\n",
              "      <th>Revenue</th>\n",
              "    </tr>\n",
              "  </thead>\n",
              "  <tbody>\n",
              "    <tr>\n",
              "      <th>count</th>\n",
              "      <td>500.000000</td>\n",
              "      <td>500.000000</td>\n",
              "    </tr>\n",
              "    <tr>\n",
              "      <th>mean</th>\n",
              "      <td>22.232225</td>\n",
              "      <td>521.570777</td>\n",
              "    </tr>\n",
              "    <tr>\n",
              "      <th>std</th>\n",
              "      <td>8.096388</td>\n",
              "      <td>175.404751</td>\n",
              "    </tr>\n",
              "    <tr>\n",
              "      <th>min</th>\n",
              "      <td>0.000000</td>\n",
              "      <td>10.000000</td>\n",
              "    </tr>\n",
              "    <tr>\n",
              "      <th>25%</th>\n",
              "      <td>17.122258</td>\n",
              "      <td>405.558681</td>\n",
              "    </tr>\n",
              "    <tr>\n",
              "      <th>50%</th>\n",
              "      <td>22.392791</td>\n",
              "      <td>529.368565</td>\n",
              "    </tr>\n",
              "    <tr>\n",
              "      <th>75%</th>\n",
              "      <td>27.740674</td>\n",
              "      <td>642.257922</td>\n",
              "    </tr>\n",
              "    <tr>\n",
              "      <th>max</th>\n",
              "      <td>45.000000</td>\n",
              "      <td>1000.000000</td>\n",
              "    </tr>\n",
              "  </tbody>\n",
              "</table>\n",
              "</div>"
            ],
            "text/plain": [
              "       Temperature      Revenue\n",
              "count   500.000000   500.000000\n",
              "mean     22.232225   521.570777\n",
              "std       8.096388   175.404751\n",
              "min       0.000000    10.000000\n",
              "25%      17.122258   405.558681\n",
              "50%      22.392791   529.368565\n",
              "75%      27.740674   642.257922\n",
              "max      45.000000  1000.000000"
            ]
          },
          "metadata": {
            "tags": []
          },
          "execution_count": 3
        }
      ]
    },
    {
      "cell_type": "code",
      "metadata": {
        "id": "hMq3-KWOx0e1",
        "colab_type": "code",
        "colab": {
          "base_uri": "https://localhost:8080/",
          "height": 173
        },
        "outputId": "9d227eb1-6fb5-4908-dc01-cfc0900922e8"
      },
      "source": [
        "df.info()"
      ],
      "execution_count": 4,
      "outputs": [
        {
          "output_type": "stream",
          "text": [
            "<class 'pandas.core.frame.DataFrame'>\n",
            "RangeIndex: 500 entries, 0 to 499\n",
            "Data columns (total 2 columns):\n",
            " #   Column       Non-Null Count  Dtype  \n",
            "---  ------       --------------  -----  \n",
            " 0   Temperature  500 non-null    float64\n",
            " 1   Revenue      500 non-null    float64\n",
            "dtypes: float64(2)\n",
            "memory usage: 7.9 KB\n"
          ],
          "name": "stdout"
        }
      ]
    },
    {
      "cell_type": "markdown",
      "metadata": {
        "id": "LlszUhNNyrl_",
        "colab_type": "text"
      },
      "source": [
        "# STEP #2: VISUALIZE DATASET"
      ]
    },
    {
      "cell_type": "code",
      "metadata": {
        "id": "TYcWopZVyvAs",
        "colab_type": "code",
        "colab": {
          "base_uri": "https://localhost:8080/",
          "height": 297
        },
        "outputId": "38cbd2ee-0c7e-49cb-8186-2df7bc8dd8eb"
      },
      "source": [
        "sns.scatterplot(x='Temperature', y= 'Revenue', data=df)"
      ],
      "execution_count": 5,
      "outputs": [
        {
          "output_type": "execute_result",
          "data": {
            "text/plain": [
              "<matplotlib.axes._subplots.AxesSubplot at 0x7f31698fc128>"
            ]
          },
          "metadata": {
            "tags": []
          },
          "execution_count": 5
        },
        {
          "output_type": "display_data",
          "data": {
            "image/png": "[encoded data removed]",
            "text/plain": [
              "<Figure size 432x288 with 1 Axes>"
            ]
          },
          "metadata": {
            "tags": [],
            "needs_background": "light"
          }
        }
      ]
    },
    {
      "cell_type": "markdown",
      "metadata": {
        "id": "Y0GmpAjG3GiH",
        "colab_type": "text"
      },
      "source": [
        "# STEP #3: CREATE TESTING AND TRAINING DATASET"
      ]
    },
    {
      "cell_type": "code",
      "metadata": {
        "id": "0-maV8hb9rYM",
        "colab_type": "code",
        "colab": {}
      },
      "source": [
        "X_train= df['Temperature']\n",
        "y_train= df['Revenue']"
      ],
      "execution_count": 22,
      "outputs": []
    },
    {
      "cell_type": "markdown",
      "metadata": {
        "id": "53qDZFRn3-S1",
        "colab_type": "text"
      },
      "source": [
        "# STEP#4: BUILD AND TRAIN THE MODEL"
      ]
    },
    {
      "cell_type": "code",
      "metadata": {
        "id": "Yl6fmPJj3cCX",
        "colab_type": "code",
        "colab": {}
      },
      "source": [
        "model = tf.keras.Sequential()\n",
        "model.add(tf.keras.layers.Dense(units=1,input_shape=[1]))\n",
        "model.compile(optimizer=tf.keras.optimizers.Adam(0.5), loss='mean_squared_error'  )"
      ],
      "execution_count": 7,
      "outputs": []
    },
    {
      "cell_type": "code",
      "metadata": {
        "id": "GUd71odB4v-i",
        "colab_type": "code",
        "colab": {
          "base_uri": "https://localhost:8080/",
          "height": 208
        },
        "outputId": "b9c862db-2686-4e10-a36b-1a2e61c5da57"
      },
      "source": [
        "print(model.summary())"
      ],
      "execution_count": 8,
      "outputs": [
        {
          "output_type": "stream",
          "text": [
            "Model: \"sequential\"\n",
            "_________________________________________________________________\n",
            "Layer (type)                 Output Shape              Param #   \n",
            "=================================================================\n",
            "dense (Dense)                (None, 1)                 2         \n",
            "=================================================================\n",
            "Total params: 2\n",
            "Trainable params: 2\n",
            "Non-trainable params: 0\n",
            "_________________________________________________________________\n",
            "None\n"
          ],
          "name": "stdout"
        }
      ]
    },
    {
      "cell_type": "code",
      "metadata": {
        "id": "BYmvNpNw5Act",
        "colab_type": "code",
        "colab": {
          "base_uri": "https://localhost:8080/",
          "height": 1000
        },
        "outputId": "a80cd4f5-fddb-4054-e6f1-11560520aa87"
      },
      "source": [
        "epochs_hist = model.fit(X_train,y_train, epochs=200)"
      ],
      "execution_count": 9,
      "outputs": [
        {
          "output_type": "stream",
          "text": [
            "Epoch 1/200\n",
            "16/16 [==============================] - 0s 2ms/step - loss: 214545.5938\n",
            "Epoch 2/200\n",
            "16/16 [==============================] - 0s 2ms/step - loss: 79995.8984\n",
            "Epoch 3/200\n",
            "16/16 [==============================] - 0s 2ms/step - loss: 20048.8398\n",
            "Epoch 4/200\n",
            "16/16 [==============================] - 0s 2ms/step - loss: 2864.8374\n",
            "Epoch 5/200\n",
            "16/16 [==============================] - 0s 2ms/step - loss: 746.3506\n",
            "Epoch 6/200\n",
            "16/16 [==============================] - 0s 2ms/step - loss: 730.4116\n",
            "Epoch 7/200\n",
            "16/16 [==============================] - 0s 2ms/step - loss: 701.3355\n",
            "Epoch 8/200\n",
            "16/16 [==============================] - 0s 2ms/step - loss: 682.6281\n",
            "Epoch 9/200\n",
            "16/16 [==============================] - 0s 2ms/step - loss: 679.7963\n",
            "Epoch 10/200\n",
            "16/16 [==============================] - 0s 2ms/step - loss: 679.6551\n",
            "Epoch 11/200\n",
            "16/16 [==============================] - 0s 2ms/step - loss: 678.2813\n",
            "Epoch 12/200\n",
            "16/16 [==============================] - 0s 2ms/step - loss: 678.6261\n",
            "Epoch 13/200\n",
            "16/16 [==============================] - 0s 2ms/step - loss: 678.0109\n",
            "Epoch 14/200\n",
            "16/16 [==============================] - 0s 2ms/step - loss: 676.9702\n",
            "Epoch 15/200\n",
            "16/16 [==============================] - 0s 2ms/step - loss: 677.2269\n",
            "Epoch 16/200\n",
            "16/16 [==============================] - 0s 2ms/step - loss: 675.3220\n",
            "Epoch 17/200\n",
            "16/16 [==============================] - 0s 2ms/step - loss: 675.3075\n",
            "Epoch 18/200\n",
            "16/16 [==============================] - 0s 2ms/step - loss: 673.5933\n",
            "Epoch 19/200\n",
            "16/16 [==============================] - 0s 2ms/step - loss: 673.0366\n",
            "Epoch 20/200\n",
            "16/16 [==============================] - 0s 2ms/step - loss: 672.1995\n",
            "Epoch 21/200\n",
            "16/16 [==============================] - 0s 2ms/step - loss: 671.9993\n",
            "Epoch 22/200\n",
            "16/16 [==============================] - 0s 2ms/step - loss: 671.5665\n",
            "Epoch 23/200\n",
            "16/16 [==============================] - 0s 2ms/step - loss: 670.9321\n",
            "Epoch 24/200\n",
            "16/16 [==============================] - 0s 2ms/step - loss: 668.9965\n",
            "Epoch 25/200\n",
            "16/16 [==============================] - 0s 2ms/step - loss: 668.7817\n",
            "Epoch 26/200\n",
            "16/16 [==============================] - 0s 2ms/step - loss: 667.3832\n",
            "Epoch 27/200\n",
            "16/16 [==============================] - 0s 2ms/step - loss: 667.8495\n",
            "Epoch 28/200\n",
            "16/16 [==============================] - 0s 2ms/step - loss: 666.1410\n",
            "Epoch 29/200\n",
            "16/16 [==============================] - 0s 2ms/step - loss: 664.8461\n",
            "Epoch 30/200\n",
            "16/16 [==============================] - 0s 2ms/step - loss: 665.4335\n",
            "Epoch 31/200\n",
            "16/16 [==============================] - 0s 2ms/step - loss: 663.5494\n",
            "Epoch 32/200\n",
            "16/16 [==============================] - 0s 2ms/step - loss: 664.9479\n",
            "Epoch 33/200\n",
            "16/16 [==============================] - 0s 2ms/step - loss: 661.9249\n",
            "Epoch 34/200\n",
            "16/16 [==============================] - 0s 2ms/step - loss: 662.5980\n",
            "Epoch 35/200\n",
            "16/16 [==============================] - 0s 2ms/step - loss: 660.1890\n",
            "Epoch 36/200\n",
            "16/16 [==============================] - 0s 2ms/step - loss: 659.7832\n",
            "Epoch 37/200\n",
            "16/16 [==============================] - 0s 2ms/step - loss: 660.9944\n",
            "Epoch 38/200\n",
            "16/16 [==============================] - 0s 2ms/step - loss: 661.5092\n",
            "Epoch 39/200\n",
            "16/16 [==============================] - 0s 2ms/step - loss: 656.7904\n",
            "Epoch 40/200\n",
            "16/16 [==============================] - 0s 2ms/step - loss: 657.6277\n",
            "Epoch 41/200\n",
            "16/16 [==============================] - 0s 2ms/step - loss: 657.4680\n",
            "Epoch 42/200\n",
            "16/16 [==============================] - 0s 2ms/step - loss: 654.0598\n",
            "Epoch 43/200\n",
            "16/16 [==============================] - 0s 2ms/step - loss: 653.4951\n",
            "Epoch 44/200\n",
            "16/16 [==============================] - 0s 2ms/step - loss: 653.8152\n",
            "Epoch 45/200\n",
            "16/16 [==============================] - 0s 2ms/step - loss: 651.8499\n",
            "Epoch 46/200\n",
            "16/16 [==============================] - 0s 2ms/step - loss: 651.2634\n",
            "Epoch 47/200\n",
            "16/16 [==============================] - 0s 2ms/step - loss: 651.5054\n",
            "Epoch 48/200\n",
            "16/16 [==============================] - 0s 2ms/step - loss: 649.7437\n",
            "Epoch 49/200\n",
            "16/16 [==============================] - 0s 2ms/step - loss: 650.6110\n",
            "Epoch 50/200\n",
            "16/16 [==============================] - 0s 2ms/step - loss: 649.7234\n",
            "Epoch 51/200\n",
            "16/16 [==============================] - 0s 2ms/step - loss: 651.5792\n",
            "Epoch 52/200\n",
            "16/16 [==============================] - 0s 2ms/step - loss: 647.7242\n",
            "Epoch 53/200\n",
            "16/16 [==============================] - 0s 2ms/step - loss: 647.3592\n",
            "Epoch 54/200\n",
            "16/16 [==============================] - 0s 2ms/step - loss: 645.7096\n",
            "Epoch 55/200\n",
            "16/16 [==============================] - 0s 2ms/step - loss: 647.7574\n",
            "Epoch 56/200\n",
            "16/16 [==============================] - 0s 2ms/step - loss: 645.6649\n",
            "Epoch 57/200\n",
            "16/16 [==============================] - 0s 2ms/step - loss: 646.0797\n",
            "Epoch 58/200\n",
            "16/16 [==============================] - 0s 2ms/step - loss: 643.4371\n",
            "Epoch 59/200\n",
            "16/16 [==============================] - 0s 2ms/step - loss: 643.1389\n",
            "Epoch 60/200\n",
            "16/16 [==============================] - 0s 2ms/step - loss: 641.7870\n",
            "Epoch 61/200\n",
            "16/16 [==============================] - 0s 2ms/step - loss: 646.2597\n",
            "Epoch 62/200\n",
            "16/16 [==============================] - 0s 2ms/step - loss: 640.8610\n",
            "Epoch 63/200\n",
            "16/16 [==============================] - 0s 2ms/step - loss: 642.6546\n",
            "Epoch 64/200\n",
            "16/16 [==============================] - 0s 2ms/step - loss: 642.0058\n",
            "Epoch 65/200\n",
            "16/16 [==============================] - 0s 2ms/step - loss: 641.2095\n",
            "Epoch 66/200\n",
            "16/16 [==============================] - 0s 2ms/step - loss: 638.4977\n",
            "Epoch 67/200\n",
            "16/16 [==============================] - 0s 2ms/step - loss: 638.7012\n",
            "Epoch 68/200\n",
            "16/16 [==============================] - 0s 2ms/step - loss: 640.0948\n",
            "Epoch 69/200\n",
            "16/16 [==============================] - 0s 2ms/step - loss: 638.1360\n",
            "Epoch 70/200\n",
            "16/16 [==============================] - 0s 2ms/step - loss: 636.5193\n",
            "Epoch 71/200\n",
            "16/16 [==============================] - 0s 2ms/step - loss: 636.6088\n",
            "Epoch 72/200\n",
            "16/16 [==============================] - 0s 2ms/step - loss: 636.4470\n",
            "Epoch 73/200\n",
            "16/16 [==============================] - 0s 2ms/step - loss: 636.4867\n",
            "Epoch 74/200\n",
            "16/16 [==============================] - 0s 2ms/step - loss: 634.6730\n",
            "Epoch 75/200\n",
            "16/16 [==============================] - 0s 2ms/step - loss: 634.1234\n",
            "Epoch 76/200\n",
            "16/16 [==============================] - 0s 2ms/step - loss: 633.4516\n",
            "Epoch 77/200\n",
            "16/16 [==============================] - 0s 2ms/step - loss: 634.2496\n",
            "Epoch 78/200\n",
            "16/16 [==============================] - 0s 2ms/step - loss: 634.1147\n",
            "Epoch 79/200\n",
            "16/16 [==============================] - 0s 2ms/step - loss: 633.9424\n",
            "Epoch 80/200\n",
            "16/16 [==============================] - 0s 2ms/step - loss: 632.8215\n",
            "Epoch 81/200\n",
            "16/16 [==============================] - 0s 2ms/step - loss: 633.2416\n",
            "Epoch 82/200\n",
            "16/16 [==============================] - 0s 2ms/step - loss: 631.9969\n",
            "Epoch 83/200\n",
            "16/16 [==============================] - 0s 2ms/step - loss: 632.5629\n",
            "Epoch 84/200\n",
            "16/16 [==============================] - 0s 2ms/step - loss: 630.8199\n",
            "Epoch 85/200\n",
            "16/16 [==============================] - 0s 2ms/step - loss: 630.7276\n",
            "Epoch 86/200\n",
            "16/16 [==============================] - 0s 2ms/step - loss: 631.6235\n",
            "Epoch 87/200\n",
            "16/16 [==============================] - 0s 2ms/step - loss: 630.1624\n",
            "Epoch 88/200\n",
            "16/16 [==============================] - 0s 2ms/step - loss: 631.5920\n",
            "Epoch 89/200\n",
            "16/16 [==============================] - 0s 2ms/step - loss: 631.3276\n",
            "Epoch 90/200\n",
            "16/16 [==============================] - 0s 2ms/step - loss: 629.2563\n",
            "Epoch 91/200\n",
            "16/16 [==============================] - 0s 2ms/step - loss: 629.4346\n",
            "Epoch 92/200\n",
            "16/16 [==============================] - 0s 2ms/step - loss: 629.4462\n",
            "Epoch 93/200\n",
            "16/16 [==============================] - 0s 2ms/step - loss: 628.5187\n",
            "Epoch 94/200\n",
            "16/16 [==============================] - 0s 2ms/step - loss: 630.2405\n",
            "Epoch 95/200\n",
            "16/16 [==============================] - 0s 2ms/step - loss: 635.3818\n",
            "Epoch 96/200\n",
            "16/16 [==============================] - 0s 2ms/step - loss: 628.7045\n",
            "Epoch 97/200\n",
            "16/16 [==============================] - 0s 2ms/step - loss: 630.7974\n",
            "Epoch 98/200\n",
            "16/16 [==============================] - 0s 2ms/step - loss: 630.0693\n",
            "Epoch 99/200\n",
            "16/16 [==============================] - 0s 2ms/step - loss: 632.3276\n",
            "Epoch 100/200\n",
            "16/16 [==============================] - 0s 2ms/step - loss: 632.5882\n",
            "Epoch 101/200\n",
            "16/16 [==============================] - 0s 2ms/step - loss: 629.1746\n",
            "Epoch 102/200\n",
            "16/16 [==============================] - 0s 2ms/step - loss: 626.8838\n",
            "Epoch 103/200\n",
            "16/16 [==============================] - 0s 2ms/step - loss: 627.2880\n",
            "Epoch 104/200\n",
            "16/16 [==============================] - 0s 2ms/step - loss: 631.8403\n",
            "Epoch 105/200\n",
            "16/16 [==============================] - 0s 2ms/step - loss: 636.5037\n",
            "Epoch 106/200\n",
            "16/16 [==============================] - 0s 2ms/step - loss: 631.2459\n",
            "Epoch 107/200\n",
            "16/16 [==============================] - 0s 2ms/step - loss: 627.3795\n",
            "Epoch 108/200\n",
            "16/16 [==============================] - 0s 2ms/step - loss: 627.6199\n",
            "Epoch 109/200\n",
            "16/16 [==============================] - 0s 2ms/step - loss: 629.3239\n",
            "Epoch 110/200\n",
            "16/16 [==============================] - 0s 2ms/step - loss: 625.9368\n",
            "Epoch 111/200\n",
            "16/16 [==============================] - 0s 2ms/step - loss: 626.9024\n",
            "Epoch 112/200\n",
            "16/16 [==============================] - 0s 2ms/step - loss: 626.9615\n",
            "Epoch 113/200\n",
            "16/16 [==============================] - 0s 2ms/step - loss: 634.5261\n",
            "Epoch 114/200\n",
            "16/16 [==============================] - 0s 2ms/step - loss: 632.4304\n",
            "Epoch 115/200\n",
            "16/16 [==============================] - 0s 2ms/step - loss: 627.4021\n",
            "Epoch 116/200\n",
            "16/16 [==============================] - 0s 2ms/step - loss: 631.3340\n",
            "Epoch 117/200\n",
            "16/16 [==============================] - 0s 2ms/step - loss: 626.5415\n",
            "Epoch 118/200\n",
            "16/16 [==============================] - 0s 2ms/step - loss: 626.9265\n",
            "Epoch 119/200\n",
            "16/16 [==============================] - 0s 2ms/step - loss: 626.7095\n",
            "Epoch 120/200\n",
            "16/16 [==============================] - 0s 2ms/step - loss: 625.7793\n",
            "Epoch 121/200\n",
            "16/16 [==============================] - 0s 2ms/step - loss: 625.8382\n",
            "Epoch 122/200\n",
            "16/16 [==============================] - 0s 2ms/step - loss: 627.4202\n",
            "Epoch 123/200\n",
            "16/16 [==============================] - 0s 2ms/step - loss: 626.8926\n",
            "Epoch 124/200\n",
            "16/16 [==============================] - 0s 2ms/step - loss: 632.0577\n",
            "Epoch 125/200\n",
            "16/16 [==============================] - 0s 2ms/step - loss: 630.5951\n",
            "Epoch 126/200\n",
            "16/16 [==============================] - 0s 2ms/step - loss: 627.0926\n",
            "Epoch 127/200\n",
            "16/16 [==============================] - 0s 2ms/step - loss: 624.1768\n",
            "Epoch 128/200\n",
            "16/16 [==============================] - 0s 2ms/step - loss: 626.3109\n",
            "Epoch 129/200\n",
            "16/16 [==============================] - 0s 2ms/step - loss: 632.0751\n",
            "Epoch 130/200\n",
            "16/16 [==============================] - 0s 2ms/step - loss: 630.0404\n",
            "Epoch 131/200\n",
            "16/16 [==============================] - 0s 2ms/step - loss: 625.1371\n",
            "Epoch 132/200\n",
            "16/16 [==============================] - 0s 2ms/step - loss: 626.1021\n",
            "Epoch 133/200\n",
            "16/16 [==============================] - 0s 2ms/step - loss: 627.0759\n",
            "Epoch 134/200\n",
            "16/16 [==============================] - 0s 2ms/step - loss: 628.9503\n",
            "Epoch 135/200\n",
            "16/16 [==============================] - 0s 2ms/step - loss: 628.3723\n",
            "Epoch 136/200\n",
            "16/16 [==============================] - 0s 2ms/step - loss: 626.9603\n",
            "Epoch 137/200\n",
            "16/16 [==============================] - 0s 2ms/step - loss: 632.4608\n",
            "Epoch 138/200\n",
            "16/16 [==============================] - 0s 2ms/step - loss: 636.7940\n",
            "Epoch 139/200\n",
            "16/16 [==============================] - 0s 2ms/step - loss: 631.6744\n",
            "Epoch 140/200\n",
            "16/16 [==============================] - 0s 2ms/step - loss: 626.7629\n",
            "Epoch 141/200\n",
            "16/16 [==============================] - 0s 2ms/step - loss: 625.9147\n",
            "Epoch 142/200\n",
            "16/16 [==============================] - 0s 2ms/step - loss: 626.9368\n",
            "Epoch 143/200\n",
            "16/16 [==============================] - 0s 2ms/step - loss: 625.3092\n",
            "Epoch 144/200\n",
            "16/16 [==============================] - 0s 2ms/step - loss: 624.4644\n",
            "Epoch 145/200\n",
            "16/16 [==============================] - 0s 2ms/step - loss: 628.0491\n",
            "Epoch 146/200\n",
            "16/16 [==============================] - 0s 2ms/step - loss: 627.7947\n",
            "Epoch 147/200\n",
            "16/16 [==============================] - 0s 2ms/step - loss: 626.0497\n",
            "Epoch 148/200\n",
            "16/16 [==============================] - 0s 2ms/step - loss: 627.9916\n",
            "Epoch 149/200\n",
            "16/16 [==============================] - 0s 2ms/step - loss: 638.6229\n",
            "Epoch 150/200\n",
            "16/16 [==============================] - 0s 2ms/step - loss: 628.3127\n",
            "Epoch 151/200\n",
            "16/16 [==============================] - 0s 2ms/step - loss: 639.0383\n",
            "Epoch 152/200\n",
            "16/16 [==============================] - 0s 2ms/step - loss: 626.6573\n",
            "Epoch 153/200\n",
            "16/16 [==============================] - 0s 2ms/step - loss: 625.6140\n",
            "Epoch 154/200\n",
            "16/16 [==============================] - 0s 2ms/step - loss: 628.4161\n",
            "Epoch 155/200\n",
            "16/16 [==============================] - 0s 2ms/step - loss: 626.2225\n",
            "Epoch 156/200\n",
            "16/16 [==============================] - 0s 2ms/step - loss: 628.5757\n",
            "Epoch 157/200\n",
            "16/16 [==============================] - 0s 2ms/step - loss: 634.2571\n",
            "Epoch 158/200\n",
            "16/16 [==============================] - 0s 2ms/step - loss: 632.8192\n",
            "Epoch 159/200\n",
            "16/16 [==============================] - 0s 2ms/step - loss: 627.7015\n",
            "Epoch 160/200\n",
            "16/16 [==============================] - 0s 2ms/step - loss: 624.7302\n",
            "Epoch 161/200\n",
            "16/16 [==============================] - 0s 2ms/step - loss: 625.4133\n",
            "Epoch 162/200\n",
            "16/16 [==============================] - 0s 2ms/step - loss: 630.7152\n",
            "Epoch 163/200\n",
            "16/16 [==============================] - 0s 2ms/step - loss: 637.5366\n",
            "Epoch 164/200\n",
            "16/16 [==============================] - 0s 2ms/step - loss: 630.9647\n",
            "Epoch 165/200\n",
            "16/16 [==============================] - 0s 2ms/step - loss: 632.6490\n",
            "Epoch 166/200\n",
            "16/16 [==============================] - 0s 2ms/step - loss: 626.4348\n",
            "Epoch 167/200\n",
            "16/16 [==============================] - 0s 2ms/step - loss: 626.9037\n",
            "Epoch 168/200\n",
            "16/16 [==============================] - 0s 2ms/step - loss: 624.8455\n",
            "Epoch 169/200\n",
            "16/16 [==============================] - 0s 2ms/step - loss: 633.9556\n",
            "Epoch 170/200\n",
            "16/16 [==============================] - 0s 2ms/step - loss: 631.2098\n",
            "Epoch 171/200\n",
            "16/16 [==============================] - 0s 2ms/step - loss: 625.7092\n",
            "Epoch 172/200\n",
            "16/16 [==============================] - 0s 2ms/step - loss: 628.0596\n",
            "Epoch 173/200\n",
            "16/16 [==============================] - 0s 2ms/step - loss: 629.8648\n",
            "Epoch 174/200\n",
            "16/16 [==============================] - 0s 2ms/step - loss: 645.0115\n",
            "Epoch 175/200\n",
            "16/16 [==============================] - 0s 2ms/step - loss: 635.2540\n",
            "Epoch 176/200\n",
            "16/16 [==============================] - 0s 2ms/step - loss: 631.3269\n",
            "Epoch 177/200\n",
            "16/16 [==============================] - 0s 2ms/step - loss: 632.4595\n",
            "Epoch 178/200\n",
            "16/16 [==============================] - 0s 2ms/step - loss: 631.3993\n",
            "Epoch 179/200\n",
            "16/16 [==============================] - 0s 2ms/step - loss: 630.0202\n",
            "Epoch 180/200\n",
            "16/16 [==============================] - 0s 2ms/step - loss: 631.8143\n",
            "Epoch 181/200\n",
            "16/16 [==============================] - 0s 2ms/step - loss: 628.3037\n",
            "Epoch 182/200\n",
            "16/16 [==============================] - 0s 2ms/step - loss: 631.3387\n",
            "Epoch 183/200\n",
            "16/16 [==============================] - 0s 2ms/step - loss: 631.3629\n",
            "Epoch 184/200\n",
            "16/16 [==============================] - 0s 2ms/step - loss: 631.5795\n",
            "Epoch 185/200\n",
            "16/16 [==============================] - 0s 2ms/step - loss: 632.5703\n",
            "Epoch 186/200\n",
            "16/16 [==============================] - 0s 2ms/step - loss: 640.8469\n",
            "Epoch 187/200\n",
            "16/16 [==============================] - 0s 2ms/step - loss: 638.6603\n",
            "Epoch 188/200\n",
            "16/16 [==============================] - 0s 2ms/step - loss: 626.3189\n",
            "Epoch 189/200\n",
            "16/16 [==============================] - 0s 2ms/step - loss: 635.6527\n",
            "Epoch 190/200\n",
            "16/16 [==============================] - 0s 2ms/step - loss: 645.4741\n",
            "Epoch 191/200\n",
            "16/16 [==============================] - 0s 2ms/step - loss: 655.1031\n",
            "Epoch 192/200\n",
            "16/16 [==============================] - 0s 2ms/step - loss: 637.4022\n",
            "Epoch 193/200\n",
            "16/16 [==============================] - 0s 2ms/step - loss: 627.5970\n",
            "Epoch 194/200\n",
            "16/16 [==============================] - 0s 2ms/step - loss: 626.3663\n",
            "Epoch 195/200\n",
            "16/16 [==============================] - 0s 2ms/step - loss: 626.4170\n",
            "Epoch 196/200\n",
            "16/16 [==============================] - 0s 2ms/step - loss: 630.0535\n",
            "Epoch 197/200\n",
            "16/16 [==============================] - 0s 2ms/step - loss: 631.5052\n",
            "Epoch 198/200\n",
            "16/16 [==============================] - 0s 2ms/step - loss: 626.8896\n",
            "Epoch 199/200\n",
            "16/16 [==============================] - 0s 2ms/step - loss: 655.7179\n",
            "Epoch 200/200\n",
            "16/16 [==============================] - 0s 2ms/step - loss: 623.1977\n"
          ],
          "name": "stdout"
        }
      ]
    },
    {
      "cell_type": "markdown",
      "metadata": {
        "id": "-wRQqOeB5Zh5",
        "colab_type": "text"
      },
      "source": [
        "# STEP#5: EVALUATE THE MODEL "
      ]
    },
    {
      "cell_type": "code",
      "metadata": {
        "id": "dfUb63035TJL",
        "colab_type": "code",
        "colab": {
          "base_uri": "https://localhost:8080/",
          "height": 283
        },
        "outputId": "c406400c-fd2a-413c-f274-df2364431552"
      },
      "source": [
        "plt.plot(epochs_hist.history['loss'])"
      ],
      "execution_count": 10,
      "outputs": [
        {
          "output_type": "execute_result",
          "data": {
            "text/plain": [
              "[<matplotlib.lines.Line2D at 0x7f31604107f0>]"
            ]
          },
          "metadata": {
            "tags": []
          },
          "execution_count": 10
        },
        {
          "output_type": "display_data",
          "data": {
            "image/png": "[encoded data removed]",
            "text/plain": [
              "<Figure size 432x288 with 1 Axes>"
            ]
          },
          "metadata": {
            "tags": [],
            "needs_background": "light"
          }
        }
      ]
    },
    {
      "cell_type": "code",
      "metadata": {
        "id": "yFYpuUJWBn6L",
        "colab_type": "code",
        "colab": {
          "base_uri": "https://localhost:8080/",
          "height": 35
        },
        "outputId": "0b1385cf-28ae-475f-82be-91fc9dfcc1c8"
      },
      "source": [
        "model.get_weights()"
      ],
      "execution_count": 11,
      "outputs": [
        {
          "output_type": "execute_result",
          "data": {
            "text/plain": [
              "[array([[21.434324]], dtype=float32), array([44.73633], dtype=float32)]"
            ]
          },
          "metadata": {
            "tags": []
          },
          "execution_count": 11
        }
      ]
    },
    {
      "cell_type": "code",
      "metadata": {
        "id": "isfjfT735fjD",
        "colab_type": "code",
        "colab": {
          "base_uri": "https://localhost:8080/",
          "height": 35
        },
        "outputId": "8096bd26-7a89-4eee-e9f8-9aa686da762f"
      },
      "source": [
        "# Use the trained model to perform predictions\n",
        "\n",
        "temp=[40]\n",
        "Revenue= model.predict(temp)\n",
        "print('the revenue for a temperature of' , temp, 'is ', Revenue)"
      ],
      "execution_count": 12,
      "outputs": [
        {
          "output_type": "stream",
          "text": [
            "the revenue for a temperature of [40] is  [[902.1093]]\n"
          ],
          "name": "stdout"
        }
      ]
    },
    {
      "cell_type": "code",
      "metadata": {
        "id": "QU6WnyzoGxrc",
        "colab_type": "code",
        "colab": {}
      },
      "source": [
        ""
      ],
      "execution_count": 12,
      "outputs": []
    },
    {
      "cell_type": "code",
      "metadata": {
        "id": "CnbDTixOaB-V",
        "colab_type": "code",
        "colab": {
          "base_uri": "https://localhost:8080/",
          "height": 279
        },
        "outputId": "1eecf008-d6fb-4b44-bc09-e0457bb04cb7"
      },
      "source": [
        "y_pred = model.predict(X_train)\n",
        "plt.scatter(X_train, y_train , marker='o' , color='gray')\n",
        "plt.plot(X_train,y_pred, color='red')\n",
        "plt.xlabel(\"Temperature [C]\")\n",
        "plt.ylabel(\"Revenue [usd]\")\n",
        "plt.show()"
      ],
      "execution_count": 15,
      "outputs": [
        {
          "output_type": "display_data",
          "data": {
            "image/png": "[encoded data removed]",
            "text/plain": [
              "<Figure size 432x288 with 1 Axes>"
            ]
          },
          "metadata": {
            "tags": [],
            "needs_background": "light"
          }
        }
      ]
    },
    {
      "cell_type": "markdown",
      "metadata": {
        "id": "_dXoZAtVcbfA",
        "colab_type": "text"
      },
      "source": [
        "# STEP #6 (OPTIONAL): CONFIRM USING REGRESSION KIT IN SCIKIT LEARN!"
      ]
    },
    {
      "cell_type": "code",
      "metadata": {
        "id": "ybYof7hSdM5I",
        "colab_type": "code",
        "colab": {}
      },
      "source": [
        "X_tr= X_train.values.reshape(-1,1)\n",
        "y_tr = y_train.values.reshape(-1,1)"
      ],
      "execution_count": 25,
      "outputs": []
    },
    {
      "cell_type": "code",
      "metadata": {
        "id": "9L6vMQ6ddfSd",
        "colab_type": "code",
        "colab": {
          "base_uri": "https://localhost:8080/",
          "height": 35
        },
        "outputId": "e4746ec2-bff2-4e1a-a99a-4cbeb106a23a"
      },
      "source": [
        ""
      ],
      "execution_count": 24,
      "outputs": [
        {
          "output_type": "execute_result",
          "data": {
            "text/plain": [
              "(500,)"
            ]
          },
          "metadata": {
            "tags": []
          },
          "execution_count": 24
        }
      ]
    },
    {
      "cell_type": "code",
      "metadata": {
        "id": "c9Gy-mQ0dj0V",
        "colab_type": "code",
        "colab": {}
      },
      "source": [
        ""
      ],
      "execution_count": null,
      "outputs": []
    },
    {
      "cell_type": "code",
      "metadata": {
        "id": "T93r6_HKdoMU",
        "colab_type": "code",
        "colab": {
          "base_uri": "https://localhost:8080/",
          "height": 35
        },
        "outputId": "9c82909d-842f-4420-d86c-d20c94ec0085"
      },
      "source": [
        ""
      ],
      "execution_count": null,
      "outputs": [
        {
          "output_type": "execute_result",
          "data": {
            "text/plain": [
              "(500, 1)"
            ]
          },
          "metadata": {
            "tags": []
          },
          "execution_count": 34
        }
      ]
    },
    {
      "cell_type": "code",
      "metadata": {
        "id": "L5bpK-EWcW1b",
        "colab_type": "code",
        "colab": {
          "base_uri": "https://localhost:8080/",
          "height": 52
        },
        "outputId": "e5af5d5d-2630-4faa-ddc4-835e94860831"
      },
      "source": [
        "from sklearn.linear_model import LinearRegression\n",
        "lm = LinearRegression()\n",
        "lm.fit(X_tr, y_tr)\n",
        "y_pred= lm.predict(X_tr)\n",
        "print('Linear Model Coefficient (m):',lm.coef_ , '\\n' , 'Linear Model Coefficient (b):' ,lm.intercept_ )"
      ],
      "execution_count": 27,
      "outputs": [
        {
          "output_type": "stream",
          "text": [
            "Linear Model Coefficient (m): [[21.44362551]] \n",
            " Linear Model Coefficient (b): [44.83126709]\n"
          ],
          "name": "stdout"
        }
      ]
    },
    {
      "cell_type": "code",
      "metadata": {
        "id": "uUyzZYAHcrgs",
        "colab_type": "code",
        "colab": {
          "base_uri": "https://localhost:8080/",
          "height": 54
        },
        "outputId": "9c7a2efb-5cdc-4f89-9e4c-4b970c331490"
      },
      "source": [
        ""
      ],
      "execution_count": null,
      "outputs": [
        {
          "output_type": "stream",
          "text": [
            "Linear Model Coefficient (m):  [[21.44362551]]\n",
            "Linear Model Coefficient (b):  [44.83126709]\n"
          ],
          "name": "stdout"
        }
      ]
    },
    {
      "cell_type": "code",
      "metadata": {
        "id": "BQRkG80MdycN",
        "colab_type": "code",
        "colab": {
          "base_uri": "https://localhost:8080/",
          "height": 279
        },
        "outputId": "760f8f40-454c-427f-a995-559cffdc3f81"
      },
      "source": [
        "y_pred = model.predict(X_train)\n",
        "plt.scatter(X_tr, y_tr , marker='o' , color='gray')\n",
        "plt.plot(X_tr,y_pred, color='red')\n",
        "plt.xlabel(\"Temperature [C]\")\n",
        "plt.ylabel(\"Revenue [usd]\")\n",
        "plt.show()"
      ],
      "execution_count": 28,
      "outputs": [
        {
          "output_type": "display_data",
          "data": {
            "image/png": "[encoded data removed]",
            "text/plain": [
              "<Figure size 432x288 with 1 Axes>"
            ]
          },
          "metadata": {
            "tags": [],
            "needs_background": "light"
          }
        }
      ]
    },
    {
      "cell_type": "markdown",
      "metadata": {
        "id": "27OgYEJu9EFV",
        "colab_type": "text"
      },
      "source": [
        "# EXCELLENT JOB & CONGRATULATIONS! NOW YOU HAVE BUILT YOUR SECOND NEURAL NETWORK MODEL USING TENSORFLOW 2.0 IN GOOGLE COLAB! "
      ]
    }
  ]
}