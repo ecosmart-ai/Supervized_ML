{
 "cells": [
  {
   "cell_type": "code",
   "execution_count": 5,
   "metadata": {},
   "outputs": [],
   "source": [
    "import pandas as pd\n",
    "import numpy as np\n",
    "import seaborn as sns\n",
    "import matplotlib.pyplot as plt\n",
    "\n",
    "\n",
    "# import dataset\n",
    "movie_df =pd.read_csv('Movie_Id_Titles')\n",
    "movies_rating_df=pd.read_csv('u.data',sep='\\t', names=['user_id','item_id','rating','timestamp'])\n",
    "movies_rating_df.drop(['timestamp'],axis=1,inplace=True)\n",
    "movies_rating_df = pd.merge(movies_rating_df,movie_df,on='item_id')\n"
   ]
  },
  {
   "cell_type": "code",
   "execution_count": 15,
   "metadata": {},
   "outputs": [
    {
     "data": {
      "text/html": [
       "<div>\n",
       "<style scoped>\n",
       "    .dataframe tbody tr th:only-of-type {\n",
       "        vertical-align: middle;\n",
       "    }\n",
       "\n",
       "    .dataframe tbody tr th {\n",
       "        vertical-align: top;\n",
       "    }\n",
       "\n",
       "    .dataframe thead th {\n",
       "        text-align: right;\n",
       "    }\n",
       "</style>\n",
       "<table border=\"1\" class=\"dataframe\">\n",
       "  <thead>\n",
       "    <tr style=\"text-align: right;\">\n",
       "      <th></th>\n",
       "      <th>title</th>\n",
       "      <th>rating</th>\n",
       "    </tr>\n",
       "  </thead>\n",
       "  <tbody>\n",
       "    <tr>\n",
       "      <th>0</th>\n",
       "      <td>'Til There Was You (1997)</td>\n",
       "      <td>2.333333</td>\n",
       "    </tr>\n",
       "    <tr>\n",
       "      <th>1</th>\n",
       "      <td>1-900 (1994)</td>\n",
       "      <td>2.600000</td>\n",
       "    </tr>\n",
       "    <tr>\n",
       "      <th>2</th>\n",
       "      <td>101 Dalmatians (1996)</td>\n",
       "      <td>2.908257</td>\n",
       "    </tr>\n",
       "    <tr>\n",
       "      <th>3</th>\n",
       "      <td>12 Angry Men (1957)</td>\n",
       "      <td>4.344000</td>\n",
       "    </tr>\n",
       "    <tr>\n",
       "      <th>4</th>\n",
       "      <td>187 (1997)</td>\n",
       "      <td>3.024390</td>\n",
       "    </tr>\n",
       "  </tbody>\n",
       "</table>\n",
       "</div>"
      ],
      "text/plain": [
       "                       title    rating\n",
       "0  'Til There Was You (1997)  2.333333\n",
       "1               1-900 (1994)  2.600000\n",
       "2      101 Dalmatians (1996)  2.908257\n",
       "3        12 Angry Men (1957)  4.344000\n",
       "4                 187 (1997)  3.024390"
      ]
     },
     "execution_count": 15,
     "metadata": {},
     "output_type": "execute_result"
    }
   ],
   "source": [
    "#visualizations\n",
    "ratings_mean_df = movies_rating_df.groupby('title')['rating'].mean().reset_index()\n"
   ]
  },
  {
   "cell_type": "code",
   "execution_count": 16,
   "metadata": {},
   "outputs": [],
   "source": [
    "#filtering\n",
    "#creating a pivot table of customers and movies\n",
    "user_id_movies_matrix=movies_rating_df.pivot_table(index='user_id',columns='title',values='rating')"
   ]
  },
  {
   "cell_type": "code",
   "execution_count": 25,
   "metadata": {},
   "outputs": [],
   "source": [
    "movie_correlations=user_id_movies_matrix.corr(method='pearson' , min_periods=80)"
   ]
  },
  {
   "cell_type": "code",
   "execution_count": 31,
   "metadata": {},
   "outputs": [
    {
     "name": "stderr",
     "output_type": "stream",
     "text": [
      "C:\\Users\\elias\\Anaconda3\\lib\\site-packages\\ipykernel_launcher.py:3: DeprecationWarning: The default dtype for empty Series will be 'object' instead of 'float64' in a future version. Specify a dtype explicitly to silence this warning.\n",
      "  This is separate from the ipykernel package so we can avoid doing imports until\n"
     ]
    }
   ],
   "source": [
    "df=pd.DataFrame([['Liar Liar (1997)',5],['Star Wars (1977)' ,1]],columns=['Movie Name' , 'Ratings'])\n",
    "\n",
    "similar_movies_list = pd.Series()\n",
    "for i in range(0, 2):\n",
    "    similar_movie = movie_correlations[df['Movie Name'][i]].dropna() # Get same movies with same ratings\n",
    "    similar_movie = similar_movie.map(lambda x: x * df['Ratings'][i]) # Scale the similarity by your given ratings\n",
    "    similar_movies_list = similar_movies_list.append(similar_movie)"
   ]
  },
  {
   "cell_type": "code",
   "execution_count": 32,
   "metadata": {},
   "outputs": [
    {
     "name": "stdout",
     "output_type": "stream",
     "text": [
      "Liar Liar (1997)                             5.000000\n",
      "Con Air (1997)                               2.349141\n",
      "Pretty Woman (1990)                          2.348951\n",
      "Michael (1996)                               2.210110\n",
      "Indiana Jones and the Last Crusade (1989)    2.072136\n",
      "Top Gun (1986)                               2.028602\n",
      "G.I. Jane (1997)                             1.989656\n",
      "Multiplicity (1996)                          1.984302\n",
      "Grumpier Old Men (1995)                      1.953494\n",
      "Ghost and the Darkness, The (1996)           1.895376\n",
      "dtype: float64\n"
     ]
    }
   ],
   "source": [
    "similar_movies_list.sort_values(inplace = True, ascending = False)\n",
    "print (similar_movies_list.head(10))"
   ]
  },
  {
   "cell_type": "code",
   "execution_count": null,
   "metadata": {},
   "outputs": [],
   "source": []
  }
 ],
 "metadata": {
  "kernelspec": {
   "display_name": "Python 3",
   "language": "python",
   "name": "python3"
  },
  "language_info": {
   "codemirror_mode": {
    "name": "ipython",
    "version": 3
   },
   "file_extension": ".py",
   "mimetype": "text/x-python",
   "name": "python",
   "nbconvert_exporter": "python",
   "pygments_lexer": "ipython3",
   "version": "3.7.7"
  }
 },
 "nbformat": 4,
 "nbformat_minor": 4
}
