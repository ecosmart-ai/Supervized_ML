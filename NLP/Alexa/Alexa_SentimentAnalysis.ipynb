{
  "nbformat": 4,
  "nbformat_minor": 0,
  "metadata": {
    "colab": {
      "name": "Alexa_SentimentAnalysis.ipynb",
      "provenance": [],
      "collapsed_sections": []
    },
    "kernelspec": {
      "name": "python3",
      "display_name": "Python 3"
    }
  },
  "cells": [
    {
      "cell_type": "markdown",
      "metadata": {
        "id": "dAOZ9HMNcWb-",
        "colab_type": "text"
      },
      "source": [
        "**Part 0 : Import data**"
      ]
    },
    {
      "cell_type": "code",
      "metadata": {
        "id": "-hjBbeL7cSQa",
        "colab_type": "code",
        "colab": {}
      },
      "source": [
        "import tensorflow as tf\n",
        "import pandas as pd\n",
        "import numpy as np\n",
        "import seaborn as sns\n",
        "import matplotlib.pyplot as plt"
      ],
      "execution_count": 361,
      "outputs": []
    },
    {
      "cell_type": "code",
      "metadata": {
        "id": "Bc9jzs5GchDk",
        "colab_type": "code",
        "colab": {
          "base_uri": "https://localhost:8080/",
          "height": 55
        },
        "outputId": "e07c8340-3e29-440b-846a-166cf16eb29a"
      },
      "source": [
        "from google.colab import drive\n",
        "drive.mount('/content/drive')"
      ],
      "execution_count": 362,
      "outputs": [
        {
          "output_type": "stream",
          "text": [
            "Drive already mounted at /content/drive; to attempt to forcibly remount, call drive.mount(\"/content/drive\", force_remount=True).\n"
          ],
          "name": "stdout"
        }
      ]
    },
    {
      "cell_type": "code",
      "metadata": {
        "id": "4j3HJVK4dQGe",
        "colab_type": "code",
        "colab": {}
      },
      "source": [
        "data=pd.read_csv('/content/drive/My Drive/Data/amazon_alexa.tsv',sep='\\t')"
      ],
      "execution_count": 363,
      "outputs": []
    },
    {
      "cell_type": "code",
      "metadata": {
        "id": "A3-iBpJVdq9v",
        "colab_type": "code",
        "colab": {
          "base_uri": "https://localhost:8080/",
          "height": 202
        },
        "outputId": "8f2a0046-f9aa-4983-fc34-cdc7703f6c22"
      },
      "source": [
        "data.head(5)"
      ],
      "execution_count": 364,
      "outputs": [
        {
          "output_type": "execute_result",
          "data": {
            "text/html": [
              "<div>\n",
              "<style scoped>\n",
              "    .dataframe tbody tr th:only-of-type {\n",
              "        vertical-align: middle;\n",
              "    }\n",
              "\n",
              "    .dataframe tbody tr th {\n",
              "        vertical-align: top;\n",
              "    }\n",
              "\n",
              "    .dataframe thead th {\n",
              "        text-align: right;\n",
              "    }\n",
              "</style>\n",
              "<table border=\"1\" class=\"dataframe\">\n",
              "  <thead>\n",
              "    <tr style=\"text-align: right;\">\n",
              "      <th></th>\n",
              "      <th>rating</th>\n",
              "      <th>date</th>\n",
              "      <th>variation</th>\n",
              "      <th>verified_reviews</th>\n",
              "      <th>feedback</th>\n",
              "    </tr>\n",
              "  </thead>\n",
              "  <tbody>\n",
              "    <tr>\n",
              "      <th>0</th>\n",
              "      <td>5</td>\n",
              "      <td>31-Jul-18</td>\n",
              "      <td>Charcoal Fabric</td>\n",
              "      <td>Love my Echo!</td>\n",
              "      <td>1</td>\n",
              "    </tr>\n",
              "    <tr>\n",
              "      <th>1</th>\n",
              "      <td>5</td>\n",
              "      <td>31-Jul-18</td>\n",
              "      <td>Charcoal Fabric</td>\n",
              "      <td>Loved it!</td>\n",
              "      <td>1</td>\n",
              "    </tr>\n",
              "    <tr>\n",
              "      <th>2</th>\n",
              "      <td>4</td>\n",
              "      <td>31-Jul-18</td>\n",
              "      <td>Walnut Finish</td>\n",
              "      <td>Sometimes while playing a game, you can answer...</td>\n",
              "      <td>1</td>\n",
              "    </tr>\n",
              "    <tr>\n",
              "      <th>3</th>\n",
              "      <td>5</td>\n",
              "      <td>31-Jul-18</td>\n",
              "      <td>Charcoal Fabric</td>\n",
              "      <td>I have had a lot of fun with this thing. My 4 ...</td>\n",
              "      <td>1</td>\n",
              "    </tr>\n",
              "    <tr>\n",
              "      <th>4</th>\n",
              "      <td>5</td>\n",
              "      <td>31-Jul-18</td>\n",
              "      <td>Charcoal Fabric</td>\n",
              "      <td>Music</td>\n",
              "      <td>1</td>\n",
              "    </tr>\n",
              "  </tbody>\n",
              "</table>\n",
              "</div>"
            ],
            "text/plain": [
              "   rating  ... feedback\n",
              "0       5  ...        1\n",
              "1       5  ...        1\n",
              "2       4  ...        1\n",
              "3       5  ...        1\n",
              "4       5  ...        1\n",
              "\n",
              "[5 rows x 5 columns]"
            ]
          },
          "metadata": {
            "tags": []
          },
          "execution_count": 364
        }
      ]
    },
    {
      "cell_type": "code",
      "metadata": {
        "id": "TT_YKL9PdsMT",
        "colab_type": "code",
        "colab": {
          "base_uri": "https://localhost:8080/",
          "height": 225
        },
        "outputId": "509834c0-0b3b-4931-de86-a59b198aa265"
      },
      "source": [
        "data.info()"
      ],
      "execution_count": 365,
      "outputs": [
        {
          "output_type": "stream",
          "text": [
            "<class 'pandas.core.frame.DataFrame'>\n",
            "RangeIndex: 3150 entries, 0 to 3149\n",
            "Data columns (total 5 columns):\n",
            " #   Column            Non-Null Count  Dtype \n",
            "---  ------            --------------  ----- \n",
            " 0   rating            3150 non-null   int64 \n",
            " 1   date              3150 non-null   object\n",
            " 2   variation         3150 non-null   object\n",
            " 3   verified_reviews  3150 non-null   object\n",
            " 4   feedback          3150 non-null   int64 \n",
            "dtypes: int64(2), object(3)\n",
            "memory usage: 123.2+ KB\n"
          ],
          "name": "stdout"
        }
      ]
    },
    {
      "cell_type": "markdown",
      "metadata": {
        "id": "puTO50jij7oB",
        "colab_type": "text"
      },
      "source": [
        "# Visualisation "
      ]
    },
    {
      "cell_type": "code",
      "metadata": {
        "id": "LesAqaNfeGJR",
        "colab_type": "code",
        "colab": {
          "base_uri": "https://localhost:8080/",
          "height": 299
        },
        "outputId": "4ccdb671-d865-4cc1-84ac-7bfcdde38a1a"
      },
      "source": [
        "sns.countplot(data['feedback'])"
      ],
      "execution_count": 366,
      "outputs": [
        {
          "output_type": "execute_result",
          "data": {
            "text/plain": [
              "<matplotlib.axes._subplots.AxesSubplot at 0x7faad29b9e48>"
            ]
          },
          "metadata": {
            "tags": []
          },
          "execution_count": 366
        },
        {
          "output_type": "display_data",
          "data": {
            "image/png": "[encoded data removed]",
            "text/plain": [
              "<Figure size 432x288 with 1 Axes>"
            ]
          },
          "metadata": {
            "tags": [],
            "needs_background": "light"
          }
        }
      ]
    },
    {
      "cell_type": "code",
      "metadata": {
        "id": "NivQUXSbkfWp",
        "colab_type": "code",
        "colab": {
          "base_uri": "https://localhost:8080/",
          "height": 297
        },
        "outputId": "32f5eb10-6672-4a6b-ffcf-a491a6df93c6"
      },
      "source": [
        "sns.countplot(data[data['feedback']==0]['rating'])"
      ],
      "execution_count": 367,
      "outputs": [
        {
          "output_type": "execute_result",
          "data": {
            "text/plain": [
              "<matplotlib.axes._subplots.AxesSubplot at 0x7faabb112ac8>"
            ]
          },
          "metadata": {
            "tags": []
          },
          "execution_count": 367
        },
        {
          "output_type": "display_data",
          "data": {
            "image/png": "[encoded data removed]",
            "text/plain": [
              "<Figure size 432x288 with 1 Axes>"
            ]
          },
          "metadata": {
            "tags": [],
            "needs_background": "light"
          }
        }
      ]
    },
    {
      "cell_type": "markdown",
      "metadata": {
        "id": "djZ2SMbhlh4w",
        "colab_type": "text"
      },
      "source": [
        "#data cleaning"
      ]
    },
    {
      "cell_type": "code",
      "metadata": {
        "id": "W4DUGZ89kyrL",
        "colab_type": "code",
        "colab": {}
      },
      "source": [
        "df = data.drop(['date','rating'],axis=1)"
      ],
      "execution_count": 368,
      "outputs": []
    },
    {
      "cell_type": "code",
      "metadata": {
        "id": "1wcn-Roolq1J",
        "colab_type": "code",
        "colab": {}
      },
      "source": [
        "variation_dum=pd.get_dummies(df['variation'],drop_first=True)"
      ],
      "execution_count": 369,
      "outputs": []
    },
    {
      "cell_type": "code",
      "metadata": {
        "id": "enU5i0bXl7wb",
        "colab_type": "code",
        "colab": {}
      },
      "source": [
        "df.drop(['variation'],axis=1,inplace=True)"
      ],
      "execution_count": 370,
      "outputs": []
    },
    {
      "cell_type": "code",
      "metadata": {
        "id": "a8VZF-CUmIfu",
        "colab_type": "code",
        "colab": {}
      },
      "source": [
        "df_alexa= pd.concat([df,variation_dum],axis=1)"
      ],
      "execution_count": 371,
      "outputs": []
    },
    {
      "cell_type": "code",
      "metadata": {
        "id": "Led8H1z8p3-M",
        "colab_type": "code",
        "colab": {
          "base_uri": "https://localhost:8080/",
          "height": 52
        },
        "outputId": "f9df18e2-70ad-407e-a7f6-1f3d1e1b98de"
      },
      "source": [
        "!pip install nltk"
      ],
      "execution_count": 372,
      "outputs": [
        {
          "output_type": "stream",
          "text": [
            "Requirement already satisfied: nltk in /usr/local/lib/python3.6/dist-packages (3.2.5)\n",
            "Requirement already satisfied: six in /usr/local/lib/python3.6/dist-packages (from nltk) (1.15.0)\n"
          ],
          "name": "stdout"
        }
      ]
    },
    {
      "cell_type": "code",
      "metadata": {
        "id": "Uer8wrCBmgI0",
        "colab_type": "code",
        "colab": {
          "base_uri": "https://localhost:8080/",
          "height": 52
        },
        "outputId": "8e76f262-2e58-494e-e5f2-813c98cab7ea"
      },
      "source": [
        "import nltk\n",
        "import string\n",
        "nltk.download('stopwords')\n",
        "string.punctuation\n",
        "from nltk.corpus import stopwords\n",
        "stopwords.words('english')\n",
        "def message_cleaning(message):\n",
        "    Test_punc_removed = [char for char in message if char not in string.punctuation]\n",
        "    Test_punc_removed_join = ''.join(Test_punc_removed)\n",
        "    Test_punc_removed_join_clean = [word for word in Test_punc_removed_join.split() if word.lower() not in stopwords.words('english')]\n",
        "    return Test_punc_removed_join_clean"
      ],
      "execution_count": 374,
      "outputs": [
        {
          "output_type": "stream",
          "text": [
            "[nltk_data] Downloading package stopwords to /root/nltk_data...\n",
            "[nltk_data]   Package stopwords is already up-to-date!\n"
          ],
          "name": "stdout"
        }
      ]
    },
    {
      "cell_type": "code",
      "metadata": {
        "id": "2IQ_q0-amiGZ",
        "colab_type": "code",
        "colab": {}
      },
      "source": [
        "#Reviews= df_alexa['verified_reviews'].apply(message_cleaning)"
      ],
      "execution_count": 375,
      "outputs": []
    },
    {
      "cell_type": "code",
      "metadata": {
        "id": "aNIWwrM3q-4A",
        "colab_type": "code",
        "colab": {}
      },
      "source": [
        "from sklearn.feature_extraction.text import CountVectorizer\n",
        "vectorizer = CountVectorizer() #analyzer=message_cleaning)\n",
        "Reviews=vectorizer.fit_transform(df_alexa['verified_reviews'])"
      ],
      "execution_count": 376,
      "outputs": []
    },
    {
      "cell_type": "code",
      "metadata": {
        "id": "DUuJ4PiPrqMC",
        "colab_type": "code",
        "colab": {}
      },
      "source": [
        "df_alexa.drop('verified_reviews',axis=1,inplace=True)"
      ],
      "execution_count": 377,
      "outputs": []
    },
    {
      "cell_type": "code",
      "metadata": {
        "id": "6SB5f9kAr_Tc",
        "colab_type": "code",
        "colab": {}
      },
      "source": [
        "Reviews=pd.DataFrame(Reviews.toarray())\n",
        "df_alexa = pd.concat([df_alexa , Reviews], axis=1)"
      ],
      "execution_count": 378,
      "outputs": []
    },
    {
      "cell_type": "code",
      "metadata": {
        "id": "iY8gMLOKsVFJ",
        "colab_type": "code",
        "colab": {
          "base_uri": "https://localhost:8080/",
          "height": 35
        },
        "outputId": "ffd400f5-e0fc-42f1-ce5d-36cb0e5efdcb"
      },
      "source": [
        "df_alexa.shape"
      ],
      "execution_count": 379,
      "outputs": [
        {
          "output_type": "execute_result",
          "data": {
            "text/plain": [
              "(3150, 4060)"
            ]
          },
          "metadata": {
            "tags": []
          },
          "execution_count": 379
        }
      ]
    },
    {
      "cell_type": "code",
      "metadata": {
        "id": "SCjI4TW3tNQv",
        "colab_type": "code",
        "colab": {}
      },
      "source": [
        "X=df_alexa.drop('feedback',axis=1)\n",
        "y=df_alexa['feedback']\n",
        "n,m= X.shape"
      ],
      "execution_count": 380,
      "outputs": []
    },
    {
      "cell_type": "code",
      "metadata": {
        "id": "wUAH5OPv5eN2",
        "colab_type": "code",
        "colab": {
          "base_uri": "https://localhost:8080/",
          "height": 69
        },
        "outputId": "4659e459-ed9a-4016-8d09-c622b701ebe2"
      },
      "source": [
        "y.value_counts()"
      ],
      "execution_count": 381,
      "outputs": [
        {
          "output_type": "execute_result",
          "data": {
            "text/plain": [
              "1    2893\n",
              "0     257\n",
              "Name: feedback, dtype: int64"
            ]
          },
          "metadata": {
            "tags": []
          },
          "execution_count": 381
        }
      ]
    },
    {
      "cell_type": "code",
      "metadata": {
        "id": "Z1HYQAr-teH9",
        "colab_type": "code",
        "colab": {}
      },
      "source": [
        "from sklearn.model_selection import train_test_split\n",
        "X_train,X_test, y_train, y_test = train_test_split(X,y,test_size=0.2, stratify=y , random_state=0)"
      ],
      "execution_count": 382,
      "outputs": []
    },
    {
      "cell_type": "code",
      "metadata": {
        "id": "ArOEoWA0uKfe",
        "colab_type": "code",
        "colab": {}
      },
      "source": [
        "from tensorflow.keras.models import Sequential\n",
        "from tensorflow.keras.layers import Dense,Dropout\n",
        "model = Sequential()\n",
        "model.add(Dense(400,activation='relu',input_shape=(m,)))\n",
        "model.add(Dropout(0.5))\n",
        "model.add(Dense(400,activation='relu'))\n",
        "model.add(Dropout(0.5))\n",
        "model.add(Dense(400,activation='relu'))\n",
        "model.add(Dropout(0.5))\n",
        "model.add(Dense(1, activation='sigmoid'))\n",
        "model.compile(optimizer='adam',loss='binary_crossentropy',metrics=['accuracy'])"
      ],
      "execution_count": 523,
      "outputs": []
    },
    {
      "cell_type": "code",
      "metadata": {
        "id": "XhfzLqdewAmT",
        "colab_type": "code",
        "colab": {}
      },
      "source": [
        "y_train.shape\n",
        "\n",
        "weights = {0:8, 1:91}"
      ],
      "execution_count": 524,
      "outputs": []
    },
    {
      "cell_type": "code",
      "metadata": {
        "id": "CLwim0tIuv_n",
        "colab_type": "code",
        "colab": {
          "base_uri": "https://localhost:8080/",
          "height": 711
        },
        "outputId": "91930d0f-9ca0-46d1-ffd3-3520da4b6783"
      },
      "source": [
        "epochs_hist=model.fit(X_train,y_train,class_weight=weights,epochs=20,validation_data=(X_test,y_test)) #,class_weight=weights"
      ],
      "execution_count": 525,
      "outputs": [
        {
          "output_type": "stream",
          "text": [
            "Epoch 1/20\n",
            "79/79 [==============================] - 2s 23ms/step - loss: 8.9294 - accuracy: 0.9095 - val_loss: 0.3421 - val_accuracy: 0.9190\n",
            "Epoch 2/20\n",
            "79/79 [==============================] - 2s 20ms/step - loss: 2.5463 - accuracy: 0.9183 - val_loss: 0.2750 - val_accuracy: 0.9190\n",
            "Epoch 3/20\n",
            "79/79 [==============================] - 2s 20ms/step - loss: 1.6734 - accuracy: 0.9190 - val_loss: 0.2892 - val_accuracy: 0.9206\n",
            "Epoch 4/20\n",
            "79/79 [==============================] - 2s 20ms/step - loss: 1.1203 - accuracy: 0.9425 - val_loss: 0.3218 - val_accuracy: 0.9397\n",
            "Epoch 5/20\n",
            "79/79 [==============================] - 2s 20ms/step - loss: 0.7058 - accuracy: 0.9754 - val_loss: 0.3829 - val_accuracy: 0.9397\n",
            "Epoch 6/20\n",
            "79/79 [==============================] - 2s 20ms/step - loss: 0.8891 - accuracy: 0.9794 - val_loss: 0.3767 - val_accuracy: 0.9492\n",
            "Epoch 7/20\n",
            "79/79 [==============================] - 2s 20ms/step - loss: 0.8073 - accuracy: 0.9821 - val_loss: 0.5202 - val_accuracy: 0.9508\n",
            "Epoch 8/20\n",
            "79/79 [==============================] - 2s 20ms/step - loss: 0.4780 - accuracy: 0.9877 - val_loss: 0.4195 - val_accuracy: 0.9476\n",
            "Epoch 9/20\n",
            "79/79 [==============================] - 2s 20ms/step - loss: 0.5817 - accuracy: 0.9905 - val_loss: 0.4066 - val_accuracy: 0.9460\n",
            "Epoch 10/20\n",
            "79/79 [==============================] - 2s 20ms/step - loss: 0.3591 - accuracy: 0.9913 - val_loss: 0.3666 - val_accuracy: 0.9460\n",
            "Epoch 11/20\n",
            "79/79 [==============================] - 2s 20ms/step - loss: 0.3548 - accuracy: 0.9917 - val_loss: 0.5524 - val_accuracy: 0.9540\n",
            "Epoch 12/20\n",
            "79/79 [==============================] - 1s 19ms/step - loss: 0.3418 - accuracy: 0.9913 - val_loss: 0.4048 - val_accuracy: 0.9508\n",
            "Epoch 13/20\n",
            "79/79 [==============================] - 2s 20ms/step - loss: 0.3588 - accuracy: 0.9885 - val_loss: 0.3759 - val_accuracy: 0.9476\n",
            "Epoch 14/20\n",
            "79/79 [==============================] - 2s 20ms/step - loss: 0.3794 - accuracy: 0.9917 - val_loss: 0.3640 - val_accuracy: 0.9444\n",
            "Epoch 15/20\n",
            "79/79 [==============================] - 2s 20ms/step - loss: 0.4239 - accuracy: 0.9905 - val_loss: 0.4127 - val_accuracy: 0.9492\n",
            "Epoch 16/20\n",
            "79/79 [==============================] - 2s 20ms/step - loss: 0.3188 - accuracy: 0.9917 - val_loss: 0.4323 - val_accuracy: 0.9476\n",
            "Epoch 17/20\n",
            "79/79 [==============================] - 2s 20ms/step - loss: 0.2912 - accuracy: 0.9921 - val_loss: 0.3624 - val_accuracy: 0.9492\n",
            "Epoch 18/20\n",
            "79/79 [==============================] - 1s 18ms/step - loss: 0.2785 - accuracy: 0.9925 - val_loss: 0.4277 - val_accuracy: 0.9476\n",
            "Epoch 19/20\n",
            "79/79 [==============================] - 1s 19ms/step - loss: 0.3011 - accuracy: 0.9925 - val_loss: 0.3893 - val_accuracy: 0.9524\n",
            "Epoch 20/20\n",
            "79/79 [==============================] - 2s 19ms/step - loss: 0.2921 - accuracy: 0.9925 - val_loss: 0.3869 - val_accuracy: 0.9508\n"
          ],
          "name": "stdout"
        }
      ]
    },
    {
      "cell_type": "code",
      "metadata": {
        "id": "gvXVupHMyZCd",
        "colab_type": "code",
        "colab": {}
      },
      "source": [
        "from sklearn.metrics import confusion_matrix ,f1_score"
      ],
      "execution_count": 526,
      "outputs": []
    },
    {
      "cell_type": "code",
      "metadata": {
        "id": "oc73EbhmvK2Q",
        "colab_type": "code",
        "colab": {}
      },
      "source": [
        "y_pred = model.predict(X_test)"
      ],
      "execution_count": 527,
      "outputs": []
    },
    {
      "cell_type": "code",
      "metadata": {
        "id": "r9IedHGhzFk-",
        "colab_type": "code",
        "colab": {}
      },
      "source": [
        "y_pred = (y_pred>0.5)"
      ],
      "execution_count": 528,
      "outputs": []
    },
    {
      "cell_type": "code",
      "metadata": {
        "id": "iPD-CyShykzS",
        "colab_type": "code",
        "colab": {
          "base_uri": "https://localhost:8080/",
          "height": 283
        },
        "outputId": "abc4fc43-75e3-4121-f6b2-4dc0b8a4f9e1"
      },
      "source": [
        "cm = confusion_matrix(y_test,y_pred)\n",
        "f1 = f1_score(y_test,y_pred)\n",
        "sns.heatmap(cm,annot=True)\n",
        "print('F1 : ' , f1)"
      ],
      "execution_count": 529,
      "outputs": [
        {
          "output_type": "stream",
          "text": [
            "F1 :  0.9735269000853972\n"
          ],
          "name": "stdout"
        },
        {
          "output_type": "display_data",
          "data": {
            "image/png": "[encoded data removed]",
            "text/plain": [
              "<Figure size 432x288 with 2 Axes>"
            ]
          },
          "metadata": {
            "tags": [],
            "needs_background": "light"
          }
        }
      ]
    }
  ]
}